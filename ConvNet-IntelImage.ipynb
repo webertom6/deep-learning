{
 "cells": [
  {
   "cell_type": "markdown",
   "id": "866c9202",
   "metadata": {
    "papermill": {
     "duration": 0.006597,
     "end_time": "2024-05-16T20:55:04.129324",
     "exception": false,
     "start_time": "2024-05-16T20:55:04.122727",
     "status": "completed"
    },
    "tags": []
   },
   "source": [
    "# Imports"
   ]
  },
  {
   "cell_type": "code",
   "execution_count": null,
   "id": "21849d99",
   "metadata": {
    "execution": {
     "iopub.execute_input": "2024-05-16T20:55:04.143695Z",
     "iopub.status.busy": "2024-05-16T20:55:04.142508Z",
     "iopub.status.idle": "2024-05-16T20:55:12.597273Z",
     "shell.execute_reply": "2024-05-16T20:55:12.596406Z"
    },
    "papermill": {
     "duration": 8.463646,
     "end_time": "2024-05-16T20:55:12.599172",
     "exception": false,
     "start_time": "2024-05-16T20:55:04.135526",
     "status": "completed"
    },
    "tags": []
   },
   "outputs": [],
   "source": [
    "import matplotlib.pyplot as plt\n",
    "import numpy as np\n",
    "import torch\n",
    "import torch.nn as nn\n",
    "import torch.optim as optim\n",
    "import torch.utils.data as data\n",
    "from torchvision import datasets, transforms, utils\n",
    "import os\n",
    "import random\n",
    "from collections import defaultdict\n",
    "from PIL import Image\n",
    "from PIL import ImageFile\n",
    "ImageFile.LOAD_TRUNCATED_IMAGES = True\n",
    "\n",
    "\n",
    "from kaggle_secrets import UserSecretsClient\n",
    "user_secrets = UserSecretsClient()\n",
    "wandb_api_key = user_secrets.get_secret(\"wandb-api-key\")\n",
    "\n",
    "root_dir = '/kaggle/input/intel-image-classification'\n",
    "\n",
    "import wandb\n",
    "wandb.login(key=wandb_api_key)"
   ]
  },
  {
   "cell_type": "markdown",
   "id": "af765606",
   "metadata": {
    "papermill": {
     "duration": 0.006312,
     "end_time": "2024-05-16T20:55:12.612200",
     "exception": false,
     "start_time": "2024-05-16T20:55:12.605888",
     "status": "completed"
    },
    "tags": []
   },
   "source": [
    "# Hyperparameters"
   ]
  },
  {
   "cell_type": "code",
   "execution_count": null,
   "id": "5a25506b",
   "metadata": {
    "execution": {
     "iopub.execute_input": "2024-05-16T20:55:12.626302Z",
     "iopub.status.busy": "2024-05-16T20:55:12.626029Z",
     "iopub.status.idle": "2024-05-16T20:55:12.630353Z",
     "shell.execute_reply": "2024-05-16T20:55:12.629581Z"
    },
    "papermill": {
     "duration": 0.013584,
     "end_time": "2024-05-16T20:55:12.632262",
     "exception": false,
     "start_time": "2024-05-16T20:55:12.618678",
     "status": "completed"
    },
    "tags": []
   },
   "outputs": [],
   "source": [
    "batch_size = 32\n",
    "n_kernels = 16\n",
    "n_epochs = 100\n",
    "learning_rate = 1e-3\n",
    "limit_per_class = 0  # 0 to disable\n",
    "seed = 42\n",
    "save_every = 1"
   ]
  },
  {
   "cell_type": "markdown",
   "id": "5c117e6d",
   "metadata": {
    "papermill": {
     "duration": 0.006425,
     "end_time": "2024-05-16T20:55:12.645152",
     "exception": false,
     "start_time": "2024-05-16T20:55:12.638727",
     "status": "completed"
    },
    "tags": []
   },
   "source": [
    "# WandB"
   ]
  },
  {
   "cell_type": "code",
   "execution_count": null,
   "id": "1609435b",
   "metadata": {
    "execution": {
     "iopub.execute_input": "2024-05-16T20:55:12.659226Z",
     "iopub.status.busy": "2024-05-16T20:55:12.658953Z",
     "iopub.status.idle": "2024-05-16T20:55:29.503874Z",
     "shell.execute_reply": "2024-05-16T20:55:29.502758Z"
    },
    "papermill": {
     "duration": 16.854535,
     "end_time": "2024-05-16T20:55:29.506060",
     "exception": false,
     "start_time": "2024-05-16T20:55:12.651525",
     "status": "completed"
    },
    "tags": []
   },
   "outputs": [],
   "source": [
    "model_name = \"ConvNet-IntelImage\"\n",
    "wandb.init(\n",
    "    project=\"deep-learning\",\n",
    "    config={\n",
    "        \"model\": model_name,\n",
    "        \"batch_size\": batch_size,\n",
    "        \"n_kernels\": n_kernels,\n",
    "        \"n_epochs\": n_epochs,\n",
    "        \"learning_rate\": learning_rate,\n",
    "        \"seed\": seed,\n",
    "        \"limit_per_class\": limit_per_class,\n",
    "    }\n",
    ")"
   ]
  },
  {
   "cell_type": "markdown",
   "id": "b3beab40",
   "metadata": {
    "papermill": {
     "duration": 0.00696,
     "end_time": "2024-05-16T20:55:29.520672",
     "exception": false,
     "start_time": "2024-05-16T20:55:29.513712",
     "status": "completed"
    },
    "tags": []
   },
   "source": [
    "# IntelImageDataset"
   ]
  },
  {
   "cell_type": "code",
   "execution_count": null,
   "id": "90edb3cd",
   "metadata": {
    "execution": {
     "iopub.execute_input": "2024-05-16T20:55:29.536479Z",
     "iopub.status.busy": "2024-05-16T20:55:29.535909Z",
     "iopub.status.idle": "2024-05-16T20:55:29.550872Z",
     "shell.execute_reply": "2024-05-16T20:55:29.550037Z"
    },
    "papermill": {
     "duration": 0.024894,
     "end_time": "2024-05-16T20:55:29.552716",
     "exception": false,
     "start_time": "2024-05-16T20:55:29.527822",
     "status": "completed"
    },
    "tags": []
   },
   "outputs": [],
   "source": [
    "class IntelImageDataset(data.Dataset):\n",
    "    def __init__(self, root_dir=root_dir, train=True, seed=seed, limit_per_class=limit_per_class):\n",
    "        super().__init__()\n",
    "\n",
    "        # params dataset\n",
    "        self.root_dir = root_dir\n",
    "        self.train = train\n",
    "        self.limit_per_class = limit_per_class\n",
    "\n",
    "        # data and labels\n",
    "        self.image_paths = []\n",
    "        self.labels = []\n",
    "\n",
    "        self.number_of_classes = 0\n",
    "        self.classes = []\n",
    "\n",
    "        self.transform = transforms.Compose([\n",
    "            transforms.Resize((256, 256)),\n",
    "            transforms.RandomHorizontalFlip(),\n",
    "            transforms.RandomVerticalFlip(),\n",
    "            transforms.RandomRotation(degrees=30), # degrees = range of rotation\n",
    "            transforms.ColorJitter(brightness=0.2, contrast=0.2, saturation=0.2, hue=0.1), # parameters are ranges\n",
    "            transforms.RandomGrayscale(p=0.1), # p = probability of applying the transform\n",
    "            transforms.ToTensor(),\n",
    "            transforms.Normalize((0.5, 0.5, 0.5), (0.5, 0.5, 0.5))\n",
    "        ])\n",
    "\n",
    "        data_dir = os.path.join(root_dir, 'seg_train/seg_train' if train else 'seg_test/seg_test')\n",
    "\n",
    "        # Iterate through class folders within the alphabetical folder\n",
    "        for class_name in os.listdir(data_dir):\n",
    "            class_dir = os.path.join(data_dir, class_name)\n",
    "            if not os.path.isdir(class_dir):\n",
    "                continue  # Skip if not a directory\n",
    "\n",
    "            filenames = sorted(os.listdir(class_dir))\n",
    "            count = 0\n",
    "            for filename in filenames:\n",
    "                if limit_per_class == 0 or count < limit_per_class:\n",
    "                    try:\n",
    "                      img_path = os.path.join(class_dir, filename)\n",
    "\n",
    "                      Image.open(img_path).verify()\n",
    "\n",
    "                      self.image_paths.append(img_path)\n",
    "                      self.labels.append(self.number_of_classes)\n",
    "\n",
    "                      count += 1\n",
    "\n",
    "                    except (IOError, SyntaxError):\n",
    "                      print(\n",
    "                          'Corrupted image or non-image file detected and skipped:', filename)\n",
    "                else:\n",
    "                    break\n",
    "                    \n",
    "            self.number_of_classes += 1\n",
    "            self.classes.append(class_name)\n",
    "\n",
    "        random.seed(seed)\n",
    "        combined = list(zip(self.image_paths, self.labels))\n",
    "        random.shuffle(combined)\n",
    "        self.image_paths, self.labels = zip(*combined)\n",
    "\n",
    "    def __len__(self):\n",
    "        return len(self.image_paths)\n",
    "\n",
    "    def __getitem__(self, index):\n",
    "        image_path = self.image_paths[index]\n",
    "        label = self.labels[index]\n",
    "\n",
    "        try:\n",
    "          image = Image.open(image_path)\n",
    "          op = 1\n",
    "          image = image.convert('RGB')\n",
    "          rgb = 1\n",
    "        except (IOError, SyntaxError):\n",
    "          print(f\"Error convert to load {op} RGB {rgb} : {image_path} {label}\")\n",
    "\n",
    "        image = self.transform(image)\n",
    "\n",
    "        return image, label"
   ]
  },
  {
   "cell_type": "markdown",
   "id": "d463d171",
   "metadata": {
    "papermill": {
     "duration": 0.007296,
     "end_time": "2024-05-16T20:55:29.567140",
     "exception": false,
     "start_time": "2024-05-16T20:55:29.559844",
     "status": "completed"
    },
    "tags": []
   },
   "source": [
    "# ConvNet"
   ]
  },
  {
   "cell_type": "code",
   "execution_count": null,
   "id": "96be0755",
   "metadata": {
    "execution": {
     "iopub.execute_input": "2024-05-16T20:55:29.584556Z",
     "iopub.status.busy": "2024-05-16T20:55:29.583994Z",
     "iopub.status.idle": "2024-05-16T20:55:29.649810Z",
     "shell.execute_reply": "2024-05-16T20:55:29.648963Z"
    },
    "papermill": {
     "duration": 0.076555,
     "end_time": "2024-05-16T20:55:29.651725",
     "exception": false,
     "start_time": "2024-05-16T20:55:29.575170",
     "status": "completed"
    },
    "tags": []
   },
   "outputs": [],
   "source": [
    "if torch.cuda.is_available():\n",
    "    device = 'cuda'\n",
    "else :\n",
    "    device = 'cpu'\n",
    "\n",
    "print(device)"
   ]
  },
  {
   "cell_type": "code",
   "execution_count": null,
   "id": "1d9199f9",
   "metadata": {
    "execution": {
     "iopub.execute_input": "2024-05-16T20:55:29.668759Z",
     "iopub.status.busy": "2024-05-16T20:55:29.668463Z",
     "iopub.status.idle": "2024-05-16T20:55:29.683150Z",
     "shell.execute_reply": "2024-05-16T20:55:29.682388Z"
    },
    "papermill": {
     "duration": 0.025736,
     "end_time": "2024-05-16T20:55:29.685049",
     "exception": false,
     "start_time": "2024-05-16T20:55:29.659313",
     "status": "completed"
    },
    "tags": []
   },
   "outputs": [],
   "source": [
    "class ConvNet(nn.Sequential):\n",
    "    def __init__(self, input_size, n_kernels, output_size):\n",
    "        super().__init__(\n",
    "            nn.Conv2d(in_channels=input_size[0], out_channels=n_kernels, kernel_size=3, padding=1),\n",
    "            nn.BatchNorm2d(n_kernels),\n",
    "            nn.ReLU(),\n",
    "            nn.MaxPool2d(kernel_size=2, stride=2),\n",
    "\n",
    "            nn.Conv2d(in_channels=n_kernels, out_channels=n_kernels*2, kernel_size=3, padding=1),\n",
    "            nn.BatchNorm2d(n_kernels*2),\n",
    "            nn.ReLU(),\n",
    "            nn.MaxPool2d(kernel_size=2, stride=2),\n",
    "\n",
    "            nn.Conv2d(in_channels=n_kernels*2, out_channels=n_kernels*4, kernel_size=3, padding=1),\n",
    "            nn.BatchNorm2d(n_kernels*4),\n",
    "            nn.ReLU(),\n",
    "            nn.MaxPool2d(kernel_size=2, stride=2),\n",
    "\n",
    "            nn.Conv2d(in_channels=n_kernels*4, out_channels=n_kernels*8, kernel_size=3, padding=1),\n",
    "            nn.BatchNorm2d(n_kernels*8),\n",
    "            nn.ReLU(),\n",
    "            nn.MaxPool2d(kernel_size=2, stride=2),\n",
    "\n",
    "            nn.Conv2d(in_channels=n_kernels*8, out_channels=n_kernels*16, kernel_size=3, padding=1),\n",
    "            nn.BatchNorm2d(n_kernels*16),\n",
    "            nn.ReLU(),\n",
    "            nn.MaxPool2d(kernel_size=2, stride=2),\n",
    "\n",
    "            nn.Conv2d(in_channels=n_kernels*16, out_channels=n_kernels*32, kernel_size=3, padding=1),\n",
    "            nn.BatchNorm2d(n_kernels*32),\n",
    "            nn.ReLU(),\n",
    "            nn.MaxPool2d(kernel_size=2, stride=2),\n",
    "\n",
    "            nn.Conv2d(in_channels=n_kernels*32, out_channels=n_kernels*64, kernel_size=3, padding=1),\n",
    "            nn.BatchNorm2d(n_kernels*64),\n",
    "            nn.ReLU(),\n",
    "            nn.MaxPool2d(kernel_size=2, stride=2),\n",
    "\n",
    "            nn.Conv2d(in_channels=n_kernels*64, out_channels=n_kernels*128, kernel_size=3, padding=1),\n",
    "            nn.BatchNorm2d(n_kernels*128),\n",
    "            nn.ReLU(),\n",
    "            nn.MaxPool2d(kernel_size=2, stride=2),\n",
    "\n",
    "            nn.Flatten(),\n",
    "            nn.Linear(n_kernels*128*int(input_size[1]/(2**8))*int(input_size[2]/(2**8)), 25*output_size),  # Adjust the input size based on your input image size\n",
    "            nn.ReLU(),\n",
    "            nn.Linear(25*output_size, output_size)\n",
    "        )\n",
    "\n",
    "        for m in self:\n",
    "            if isinstance(m, (nn.Conv2d, nn.Linear)):\n",
    "                nn.init.kaiming_normal_(m.weight)\n",
    "                nn.init.constant_(m.bias, 0)"
   ]
  },
  {
   "cell_type": "markdown",
   "id": "61a6c346",
   "metadata": {
    "papermill": {
     "duration": 0.007318,
     "end_time": "2024-05-16T20:55:29.699609",
     "exception": false,
     "start_time": "2024-05-16T20:55:29.692291",
     "status": "completed"
    },
    "tags": []
   },
   "source": [
    "# Train loop"
   ]
  },
  {
   "cell_type": "code",
   "execution_count": null,
   "id": "d12d3a8a",
   "metadata": {
    "execution": {
     "iopub.execute_input": "2024-05-16T20:55:29.715826Z",
     "iopub.status.busy": "2024-05-16T20:55:29.715538Z",
     "iopub.status.idle": "2024-05-16T20:55:29.727791Z",
     "shell.execute_reply": "2024-05-16T20:55:29.726786Z"
    },
    "papermill": {
     "duration": 0.023552,
     "end_time": "2024-05-16T20:55:29.730623",
     "exception": false,
     "start_time": "2024-05-16T20:55:29.707071",
     "status": "completed"
    },
    "tags": []
   },
   "outputs": [],
   "source": [
    "def train(model, trainloader, testloader, n_epochs=n_epochs, learning_rate=learning_rate):\n",
    "\n",
    "    model.to(device)\n",
    "\n",
    "    optimizer = torch.optim.Adam(model.parameters(), lr=learning_rate)\n",
    "    criterion = nn.CrossEntropyLoss()\n",
    "\n",
    "    train_avg_loss = []\n",
    "    test_avg_loss = []\n",
    "    test_accuracy = []\n",
    "\n",
    "    for i in range(n_epochs):\n",
    "\n",
    "        print(f\"Epoch : {i}\")\n",
    "\n",
    "        train_losses = []\n",
    "        test_losses = []\n",
    "        \n",
    "        # train\n",
    "        for x, y in trainloader:\n",
    "            # send to device\n",
    "            x = x.to(device)\n",
    "            y = y.to(device)\n",
    "\n",
    "            # predict\n",
    "            pred = model(x)\n",
    "            loss = criterion(pred, y)\n",
    "            train_losses.append(loss.detach())\n",
    "\n",
    "            # step\n",
    "            optimizer.zero_grad()\n",
    "            loss.backward()\n",
    "            optimizer.step()\n",
    "\n",
    "        # test\n",
    "        with torch.no_grad():\n",
    "            correct = 0\n",
    "\n",
    "            for x,y in testloader:\n",
    "                x = x.to(device)\n",
    "                y = y.to(device)\n",
    "\n",
    "                pred = model(x)\n",
    "                loss = criterion(pred, y)\n",
    "                test_losses.append(loss.detach())\n",
    "\n",
    "                y_pred = pred.argmax(dim=-1)\n",
    "                correct = correct + (y_pred==y).sum()\n",
    "\n",
    "            accuracy = (correct / len(testloader.dataset))\n",
    "\n",
    "        train_loss = torch.stack(train_losses).mean()\n",
    "        test_loss = torch.stack(test_losses).mean()\n",
    "\n",
    "        print(f\"train_losses : {train_loss}\")\n",
    "        print(f\"test_losses : {test_loss}\")\n",
    "        print(f\"accuracy : {accuracy}\")\n",
    "        \n",
    "        wandb.log({\n",
    "            \"epoch\": i,\n",
    "            \"train loss\": train_loss,\n",
    "            \"test loss\": test_loss,\n",
    "            \"accuracy\": accuracy,\n",
    "        })\n",
    "        \n",
    "        if i % save_every == 0:\n",
    "            torch.save(model.state_dict(), f\"epoch_{i}_model.pt\")\n",
    "            wandb.save(f\"epoch_{i}_model.pt\")\n",
    "\n",
    "        train_avg_loss.append(train_loss)\n",
    "        test_avg_loss.append(test_loss)\n",
    "        test_accuracy.append(accuracy)\n",
    "\n",
    "    return train_avg_loss, test_avg_loss, test_accuracy"
   ]
  },
  {
   "cell_type": "markdown",
   "id": "cacc5d6f",
   "metadata": {
    "papermill": {
     "duration": 0.00705,
     "end_time": "2024-05-16T20:55:29.745377",
     "exception": false,
     "start_time": "2024-05-16T20:55:29.738327",
     "status": "completed"
    },
    "tags": []
   },
   "source": [
    "# Create dataset / dataloader"
   ]
  },
  {
   "cell_type": "code",
   "execution_count": null,
   "id": "4b1195d3",
   "metadata": {
    "execution": {
     "iopub.execute_input": "2024-05-16T20:55:29.761295Z",
     "iopub.status.busy": "2024-05-16T20:55:29.760652Z",
     "iopub.status.idle": "2024-05-16T20:56:59.540907Z",
     "shell.execute_reply": "2024-05-16T20:56:59.539799Z"
    },
    "papermill": {
     "duration": 89.790899,
     "end_time": "2024-05-16T20:56:59.543534",
     "exception": false,
     "start_time": "2024-05-16T20:55:29.752635",
     "status": "completed"
    },
    "tags": []
   },
   "outputs": [],
   "source": [
    "# Instantiate the train and test set\n",
    "\n",
    "# train\n",
    "train_dataset = IntelImageDataset(train=True)\n",
    "\n",
    "# test\n",
    "test_dataset = IntelImageDataset(train=False)"
   ]
  },
  {
   "cell_type": "code",
   "execution_count": null,
   "id": "b90399b7",
   "metadata": {
    "execution": {
     "iopub.execute_input": "2024-05-16T20:56:59.559941Z",
     "iopub.status.busy": "2024-05-16T20:56:59.559616Z",
     "iopub.status.idle": "2024-05-16T20:56:59.565166Z",
     "shell.execute_reply": "2024-05-16T20:56:59.564075Z"
    },
    "papermill": {
     "duration": 0.015884,
     "end_time": "2024-05-16T20:56:59.567148",
     "exception": false,
     "start_time": "2024-05-16T20:56:59.551264",
     "status": "completed"
    },
    "tags": []
   },
   "outputs": [],
   "source": [
    "# Instantiate the corresponding data loaders\n",
    "\n",
    "# train\n",
    "train_loader = data.DataLoader(train_dataset, batch_size=batch_size, shuffle=True, num_workers=2)\n",
    "\n",
    "# test\n",
    "test_loader = data.DataLoader(test_dataset, batch_size=batch_size, shuffle=False, num_workers=2)"
   ]
  },
  {
   "cell_type": "markdown",
   "id": "13471dc1",
   "metadata": {
    "papermill": {
     "duration": 0.007107,
     "end_time": "2024-05-16T20:56:59.582957",
     "exception": false,
     "start_time": "2024-05-16T20:56:59.575850",
     "status": "completed"
    },
    "tags": []
   },
   "source": [
    "# Define Model"
   ]
  },
  {
   "cell_type": "code",
   "execution_count": null,
   "id": "1c5215e1",
   "metadata": {
    "execution": {
     "iopub.execute_input": "2024-05-16T20:56:59.599175Z",
     "iopub.status.busy": "2024-05-16T20:56:59.598907Z",
     "iopub.status.idle": "2024-05-16T20:57:00.286877Z",
     "shell.execute_reply": "2024-05-16T20:57:00.285751Z"
    },
    "papermill": {
     "duration": 0.698261,
     "end_time": "2024-05-16T20:57:00.289001",
     "exception": false,
     "start_time": "2024-05-16T20:56:59.590740",
     "status": "completed"
    },
    "tags": []
   },
   "outputs": [],
   "source": [
    "input_features = [3, 256, 256] # Channels (assuming RGB images), Height, Width\n",
    "output_features = train_dataset.number_of_classes\n",
    "\n",
    "network = ConvNet(input_size=input_features, n_kernels=n_kernels, output_size=output_features).to(device)\n",
    "print(network)"
   ]
  },
  {
   "cell_type": "markdown",
   "id": "4cdc8639",
   "metadata": {
    "papermill": {
     "duration": 0.007346,
     "end_time": "2024-05-16T20:57:00.304055",
     "exception": false,
     "start_time": "2024-05-16T20:57:00.296709",
     "status": "completed"
    },
    "tags": []
   },
   "source": [
    "# Train Model"
   ]
  },
  {
   "cell_type": "code",
   "execution_count": null,
   "id": "c3ab3b4c",
   "metadata": {
    "execution": {
     "iopub.execute_input": "2024-05-16T20:57:00.320265Z",
     "iopub.status.busy": "2024-05-16T20:57:00.319641Z",
     "iopub.status.idle": "2024-05-16T23:36:45.274015Z",
     "shell.execute_reply": "2024-05-16T23:36:45.272449Z"
    },
    "papermill": {
     "duration": 9584.981315,
     "end_time": "2024-05-16T23:36:45.292684",
     "exception": false,
     "start_time": "2024-05-16T20:57:00.311369",
     "status": "completed"
    },
    "tags": []
   },
   "outputs": [],
   "source": [
    "train_avg_loss, test_avg_loss, test_accuracy = train(model=network,\n",
    "                                                     trainloader=train_loader,\n",
    "                                                     testloader=test_loader,\n",
    "                                                     n_epochs=n_epochs,\n",
    "                                                     learning_rate=learning_rate\n",
    "                                                     )"
   ]
  },
  {
   "cell_type": "markdown",
   "id": "9319b489",
   "metadata": {
    "papermill": {
     "duration": 0.016368,
     "end_time": "2024-05-16T23:36:45.325633",
     "exception": false,
     "start_time": "2024-05-16T23:36:45.309265",
     "status": "completed"
    },
    "tags": []
   },
   "source": [
    "# Plot"
   ]
  },
  {
   "cell_type": "code",
   "execution_count": null,
   "id": "3fabc2f8",
   "metadata": {
    "execution": {
     "iopub.execute_input": "2024-05-16T23:36:45.363778Z",
     "iopub.status.busy": "2024-05-16T23:36:45.362303Z",
     "iopub.status.idle": "2024-05-16T23:36:46.012595Z",
     "shell.execute_reply": "2024-05-16T23:36:46.011675Z"
    },
    "papermill": {
     "duration": 0.672158,
     "end_time": "2024-05-16T23:36:46.015049",
     "exception": false,
     "start_time": "2024-05-16T23:36:45.342891",
     "status": "completed"
    },
    "tags": []
   },
   "outputs": [],
   "source": [
    "train_avg_loss_np = torch.tensor(train_avg_loss).detach().cpu().numpy()\n",
    "test_avg_loss_np = torch.tensor(test_avg_loss).detach().cpu().numpy()\n",
    "test_accuracy_np = torch.tensor(test_accuracy).detach().cpu().numpy()\n",
    "\n",
    "plt.figure(figsize=(12, 4))\n",
    "plt.subplot(1, 2, 1)\n",
    "plt.plot(train_avg_loss_np, label='Training Loss')\n",
    "plt.plot(test_avg_loss_np, label='Testing Loss')\n",
    "plt.xlabel('Epoch')\n",
    "plt.ylabel('Loss')\n",
    "plt.title('Training and Testing Loss')\n",
    "plt.legend()\n",
    "\n",
    "plt.subplot(1, 2, 2)\n",
    "plt.plot(test_accuracy_np, label='Test Accuracy')\n",
    "plt.xlabel('Epoch')\n",
    "plt.ylabel('Accuracy')\n",
    "plt.title('Test Accuracy')\n",
    "plt.legend()\n",
    "\n",
    "plt.tight_layout()\n",
    "plt.show()"
   ]
  },
  {
   "cell_type": "markdown",
   "id": "5c619bc0",
   "metadata": {
    "papermill": {
     "duration": 0.01728,
     "end_time": "2024-05-16T23:36:46.050382",
     "exception": false,
     "start_time": "2024-05-16T23:36:46.033102",
     "status": "completed"
    },
    "tags": []
   },
   "source": [
    "# Finish wandb run"
   ]
  },
  {
   "cell_type": "code",
   "execution_count": null,
   "id": "d04e6c50",
   "metadata": {
    "execution": {
     "iopub.execute_input": "2024-05-16T23:36:46.087309Z",
     "iopub.status.busy": "2024-05-16T23:36:46.086978Z",
     "iopub.status.idle": "2024-05-16T23:36:49.477270Z",
     "shell.execute_reply": "2024-05-16T23:36:49.476281Z"
    },
    "papermill": {
     "duration": 3.411291,
     "end_time": "2024-05-16T23:36:49.479490",
     "exception": false,
     "start_time": "2024-05-16T23:36:46.068199",
     "status": "completed"
    },
    "tags": []
   },
   "outputs": [],
   "source": [
    "# necessary in notebooks\n",
    "wandb.finish()"
   ]
  }
 ],
 "metadata": {
  "kaggle": {
   "accelerator": "gpu",
   "dataSources": [
    {
     "datasetId": 111880,
     "sourceId": 269359,
     "sourceType": "datasetVersion"
    }
   ],
   "dockerImageVersionId": 30699,
   "isGpuEnabled": true,
   "isInternetEnabled": true,
   "language": "python",
   "sourceType": "notebook"
  },
  "kernelspec": {
   "display_name": "Python 3",
   "language": "python",
   "name": "python3"
  },
  "language_info": {
   "codemirror_mode": {
    "name": "ipython",
    "version": 3
   },
   "file_extension": ".py",
   "mimetype": "text/x-python",
   "name": "python",
   "nbconvert_exporter": "python",
   "pygments_lexer": "ipython3",
   "version": "3.10.13"
  },
  "papermill": {
   "default_parameters": {},
   "duration": 9710.802712,
   "end_time": "2024-05-16T23:36:52.136907",
   "environment_variables": {},
   "exception": null,
   "input_path": "__notebook__.ipynb",
   "output_path": "__notebook__.ipynb",
   "parameters": {},
   "start_time": "2024-05-16T20:55:01.334195",
   "version": "2.5.0"
  }
 },
 "nbformat": 4,
 "nbformat_minor": 5
}
